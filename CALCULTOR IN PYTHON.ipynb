{
 "cells": [
  {
   "cell_type": "markdown",
   "id": "175ff722",
   "metadata": {},
   "source": [
    "# CALCULATOR IN PYTHON"
   ]
  },
  {
   "cell_type": "code",
   "execution_count": 29,
   "id": "b9e52e37",
   "metadata": {},
   "outputs": [
    {
     "name": "stdout",
     "output_type": "stream",
     "text": [
      "PLEASE ENTER THE OPERATION\n",
      "1:ADD\n",
      "2:SUBTRACT\n",
      "3:MULTIPLY\n",
      "4:DIVIDE\n",
      "5:MODULE\n",
      "Please enter choice (1/ 2/ 3/ 4/ 5): 1\n",
      "Enter the value :3\n",
      "Enter the value :4\n",
      "add: 7\n"
     ]
    }
   ],
   "source": [
    "def add(A,B):\n",
    "    return A+B\n",
    "def sub(A,B):\n",
    "    return A-B\n",
    "def multi(A,B):\n",
    "    return A*B\n",
    "def divide(A,B):\n",
    "    return A//B\n",
    "def modu(A,B):\n",
    "    return A%B\n",
    "print(\"PLEASE ENTER THE OPERATION\")\n",
    "print(\"1:ADD\")\n",
    "print(\"2:SUBTRACT\")\n",
    "print(\"3:MULTIPLY\")\n",
    "print(\"4:DIVIDE\")\n",
    "print(\"5:MODULE\")\n",
    "\n",
    "choice = input(\"Please enter choice (1/ 2/ 3/ 4/ 5): \") \n",
    "\n",
    "n1=int(input(\"Enter the value :\"))\n",
    "n2=int(input(\"Enter the value :\"))\n",
    "\n",
    "if choice== '1':\n",
    "    print(\"add:\",add(n1,n2))\n",
    "elif choice== '2':\n",
    "    print(\"subtract:\",sub(n1,n2))\n",
    "elif choice=='3':\n",
    "    print(\"multiply:\",multi(n1,n2))\n",
    "elif choice=='4':\n",
    "    print(\"divide:\",div(n1,n2))\n",
    "elif choice=='5':\n",
    "    print(\"module:\",mod(n1,n2))\n",
    "else:\n",
    "    print(\"THIS IS INVALID\")\n",
    "    "
   ]
  },
  {
   "cell_type": "code",
   "execution_count": null,
   "id": "c1e0657e",
   "metadata": {},
   "outputs": [],
   "source": []
  }
 ],
 "metadata": {
  "kernelspec": {
   "display_name": "Python 3 (ipykernel)",
   "language": "python",
   "name": "python3"
  },
  "language_info": {
   "codemirror_mode": {
    "name": "ipython",
    "version": 3
   },
   "file_extension": ".py",
   "mimetype": "text/x-python",
   "name": "python",
   "nbconvert_exporter": "python",
   "pygments_lexer": "ipython3",
   "version": "3.10.9"
  }
 },
 "nbformat": 4,
 "nbformat_minor": 5
}
